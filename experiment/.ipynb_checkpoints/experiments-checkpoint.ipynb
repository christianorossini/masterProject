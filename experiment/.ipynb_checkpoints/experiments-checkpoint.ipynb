{
 "cells": [
  {
   "cell_type": "code",
   "execution_count": 77,
   "metadata": {},
   "outputs": [],
   "source": [
    "import pandas as pd\n",
    "import matplotlib\n",
    "import matplotlib.pyplot as plt\n",
    "\n",
    "\n",
    "header = [\"inviteId\",\"codeRevision\",\"codeSmellIdentification\",\"degree\",\"devExperience\",\"javaExperience\",\"objOrientedExperience\",\"origin\",\"yearsDevExperience\"]\n",
    "participants =  pd.read_csv('participant.csv', header=None)\n",
    "participants.columns=header\n",
    "\n",
    "\n",
    "#participants.to_csv('participant.csv', index=False)\n",
    "\n",
    "#participants\n",
    "\n",
    "\n",
    "\n",
    "\n"
   ]
  },
  {
   "cell_type": "code",
   "execution_count": null,
   "metadata": {},
   "outputs": [],
   "source": [
    "header = [\"id\",\"questionnaire_id\",\"task_id\",\" secondsToAnswer\",\"isDt\",\"answer_ptr_id\",\"answer_csagreement\",\"answer_description\",\"answer_dtDescription\"]\n",
    "answer =  pd.read_csv('answer.csv', header=None, escapechar=\"\\\\\", encoding=\"latin_1\")\n",
    "answer.columns=header\n",
    "\n",
    "\n",
    "#participants.to_csv('participant.csv', index=False)\n",
    "\n",
    "answer"
   ]
  },
  {
   "cell_type": "code",
   "execution_count": null,
   "metadata": {},
   "outputs": [],
   "source": [
    "import  statsmodels.stats.inter_rater as ir\n",
    "\n",
    "r.fleiss_kappa([[1,2,3,4],[1,2,3,4]], method='fleiss')\n",
    "\n"
   ]
  },
  {
   "cell_type": "code",
   "execution_count": null,
   "metadata": {},
   "outputs": [],
   "source": []
  },
  {
   "cell_type": "code",
   "execution_count": null,
   "metadata": {},
   "outputs": [],
   "source": []
  }
 ],
 "metadata": {
  "kernelspec": {
   "display_name": "Python 3",
   "language": "python",
   "name": "python3"
  },
  "language_info": {
   "codemirror_mode": {
    "name": "ipython",
    "version": 3
   },
   "file_extension": ".py",
   "mimetype": "text/x-python",
   "name": "python",
   "nbconvert_exporter": "python",
   "pygments_lexer": "ipython3",
   "version": "3.6.9"
  }
 },
 "nbformat": 4,
 "nbformat_minor": 4
}
