{
 "cells": [
  {
   "cell_type": "markdown",
   "metadata": {},
   "source": [
    "# Dataset inspection"
   ]
  },
  {
   "cell_type": "code",
   "execution_count": 460,
   "metadata": {},
   "outputs": [],
   "source": [
    "from IPython.core.interactiveshell import InteractiveShell\n",
    "InteractiveShell.ast_node_interactivity = \"last\"\n",
    "import pandas as pd\n",
    "import matplotlib\n",
    "import matplotlib.pyplot as plt\n",
    "import numpy as np"
   ]
  },
  {
   "cell_type": "markdown",
   "metadata": {},
   "source": [
    "## Analysing and removing careless or biased participations\n",
    "\n",
    "We created \"Dummy tasks\", randomly selected code components not affected by any of the code smells considered in our study. This was done to limit the bias in the study, i.e., avoid that participants always indicate that the code contains a problem.\n",
    "\n",
    "So, we first look for participants that accomplish tasks in a careless and/or biased way, analysing how they performed tasks when faced with dummy tasks. For instance, we intentionally created a dummy task that defines a god class, however the correspondent java code have just few line of codes. Thus, we expected that the participant would mark \"I strongly disagree\" or, at minimun, \"I Slightly disagree\". After data inspection, we noted that almost all of the participant not behave biased ou carelessly. Except for 1 participant, all of them marks some degree of disagreement when evaluated dummy tasks."
   ]
  },
  {
   "cell_type": "code",
   "execution_count": 461,
   "metadata": {},
   "outputs": [
    {
     "data": {
      "text/html": [
       "<div>\n",
       "<style scoped>\n",
       "    .dataframe tbody tr th:only-of-type {\n",
       "        vertical-align: middle;\n",
       "    }\n",
       "\n",
       "    .dataframe tbody tr th {\n",
       "        vertical-align: top;\n",
       "    }\n",
       "\n",
       "    .dataframe thead th {\n",
       "        text-align: right;\n",
       "    }\n",
       "</style>\n",
       "<table border=\"1\" class=\"dataframe\">\n",
       "  <thead>\n",
       "    <tr style=\"text-align: right;\">\n",
       "      <th></th>\n",
       "      <th>id</th>\n",
       "      <th>questionnaire_id</th>\n",
       "      <th>task_id</th>\n",
       "      <th>secondsToAnswer</th>\n",
       "      <th>isDt</th>\n",
       "      <th>answer_ptr_id</th>\n",
       "      <th>answer_csagreement</th>\n",
       "    </tr>\n",
       "  </thead>\n",
       "  <tbody>\n",
       "    <tr>\n",
       "      <th>85</th>\n",
       "      <td>187</td>\n",
       "      <td>25</td>\n",
       "      <td>14</td>\n",
       "      <td>83.19</td>\n",
       "      <td>0</td>\n",
       "      <td>187</td>\n",
       "      <td>-2</td>\n",
       "    </tr>\n",
       "    <tr>\n",
       "      <th>89</th>\n",
       "      <td>191</td>\n",
       "      <td>25</td>\n",
       "      <td>13</td>\n",
       "      <td>25.52</td>\n",
       "      <td>0</td>\n",
       "      <td>191</td>\n",
       "      <td>-2</td>\n",
       "    </tr>\n",
       "    <tr>\n",
       "      <th>93</th>\n",
       "      <td>195</td>\n",
       "      <td>25</td>\n",
       "      <td>16</td>\n",
       "      <td>89.50</td>\n",
       "      <td>1</td>\n",
       "      <td>195</td>\n",
       "      <td>2</td>\n",
       "    </tr>\n",
       "    <tr>\n",
       "      <th>95</th>\n",
       "      <td>197</td>\n",
       "      <td>25</td>\n",
       "      <td>15</td>\n",
       "      <td>143.85</td>\n",
       "      <td>1</td>\n",
       "      <td>197</td>\n",
       "      <td>2</td>\n",
       "    </tr>\n",
       "  </tbody>\n",
       "</table>\n",
       "</div>"
      ],
      "text/plain": [
       "     id  questionnaire_id  task_id  secondsToAnswer  isDt  answer_ptr_id  \\\n",
       "85  187                25       14            83.19     0            187   \n",
       "89  191                25       13            25.52     0            191   \n",
       "93  195                25       16            89.50     1            195   \n",
       "95  197                25       15           143.85     1            197   \n",
       "\n",
       "    answer_csagreement  \n",
       "85                  -2  \n",
       "89                  -2  \n",
       "93                   2  \n",
       "95                   2  "
      ]
     },
     "execution_count": 461,
     "metadata": {},
     "output_type": "execute_result"
    }
   ],
   "source": [
    "header = [\"id\",\"questionnaire_id\",\"task_id\",\"secondsToAnswer\",\"isDt\",\"answer_ptr_id\",\"answer_csagreement\",\"answer_description\",\"answer_dtDescription\"]\n",
    "answer =  pd.read_csv('answer.csv', header=None, escapechar=\"\\\\\", encoding=\"latin_1\")\n",
    "answer.columns=header\n",
    "\n",
    "dummy_id = \"13,14,15,16\"\n",
    "answer_dummy = answer.query(\"task_id in ({0})\".format(dummy_id))\n",
    "\n",
    "# o questionnaire id 25 será retirado\n",
    "answer_dummy[answer_dummy.questionnaire_id==25].loc[:,'id':'answer_csagreement']"
   ]
  },
  {
   "cell_type": "code",
   "execution_count": 462,
   "metadata": {},
   "outputs": [
    {
     "data": {
      "text/html": [
       "<div>\n",
       "<style scoped>\n",
       "    .dataframe tbody tr th:only-of-type {\n",
       "        vertical-align: middle;\n",
       "    }\n",
       "\n",
       "    .dataframe tbody tr th {\n",
       "        vertical-align: top;\n",
       "    }\n",
       "\n",
       "    .dataframe thead th {\n",
       "        text-align: right;\n",
       "    }\n",
       "</style>\n",
       "<table border=\"1\" class=\"dataframe\">\n",
       "  <thead>\n",
       "    <tr style=\"text-align: right;\">\n",
       "      <th></th>\n",
       "      <th>id</th>\n",
       "      <th>questionnaire_id</th>\n",
       "      <th>task_id</th>\n",
       "      <th>secondsToAnswer</th>\n",
       "      <th>isDt</th>\n",
       "      <th>answer_ptr_id</th>\n",
       "      <th>answer_csagreement</th>\n",
       "      <th>answer_description</th>\n",
       "      <th>answer_dtDescription</th>\n",
       "    </tr>\n",
       "  </thead>\n",
       "  <tbody>\n",
       "    <tr>\n",
       "      <th>0</th>\n",
       "      <td>102</td>\n",
       "      <td>16</td>\n",
       "      <td>3</td>\n",
       "      <td>119.14</td>\n",
       "      <td>1</td>\n",
       "      <td>102</td>\n",
       "      <td>2</td>\n",
       "      <td>The class is big and have too much code and va...</td>\n",
       "      <td>none</td>\n",
       "    </tr>\n",
       "    <tr>\n",
       "      <th>1</th>\n",
       "      <td>103</td>\n",
       "      <td>16</td>\n",
       "      <td>11</td>\n",
       "      <td>169.35</td>\n",
       "      <td>1</td>\n",
       "      <td>103</td>\n",
       "      <td>1</td>\n",
       "      <td>It does have a long parameter list, could be a...</td>\n",
       "      <td>Helped me to see the number of statements, inp...</td>\n",
       "    </tr>\n",
       "    <tr>\n",
       "      <th>2</th>\n",
       "      <td>104</td>\n",
       "      <td>16</td>\n",
       "      <td>7</td>\n",
       "      <td>250.75</td>\n",
       "      <td>1</td>\n",
       "      <td>104</td>\n",
       "      <td>1</td>\n",
       "      <td>The child class uses few methods from parent.</td>\n",
       "      <td>Helped me to identify why it was a refused beq...</td>\n",
       "    </tr>\n",
       "    <tr>\n",
       "      <th>3</th>\n",
       "      <td>105</td>\n",
       "      <td>16</td>\n",
       "      <td>4</td>\n",
       "      <td>235.66</td>\n",
       "      <td>1</td>\n",
       "      <td>105</td>\n",
       "      <td>-1</td>\n",
       "      <td>It does too much in just one method, could be ...</td>\n",
       "      <td>helped me to identify where to search</td>\n",
       "    </tr>\n",
       "    <tr>\n",
       "      <th>7</th>\n",
       "      <td>110</td>\n",
       "      <td>16</td>\n",
       "      <td>8</td>\n",
       "      <td>42.01</td>\n",
       "      <td>0</td>\n",
       "      <td>110</td>\n",
       "      <td>2</td>\n",
       "      <td>The class is really long and implements too mu...</td>\n",
       "      <td>NaN</td>\n",
       "    </tr>\n",
       "  </tbody>\n",
       "</table>\n",
       "</div>"
      ],
      "text/plain": [
       "    id  questionnaire_id  task_id  secondsToAnswer  isDt  answer_ptr_id  \\\n",
       "0  102                16        3           119.14     1            102   \n",
       "1  103                16       11           169.35     1            103   \n",
       "2  104                16        7           250.75     1            104   \n",
       "3  105                16        4           235.66     1            105   \n",
       "7  110                16        8            42.01     0            110   \n",
       "\n",
       "   answer_csagreement                                 answer_description  \\\n",
       "0                   2  The class is big and have too much code and va...   \n",
       "1                   1  It does have a long parameter list, could be a...   \n",
       "2                   1      The child class uses few methods from parent.   \n",
       "3                  -1  It does too much in just one method, could be ...   \n",
       "7                   2  The class is really long and implements too mu...   \n",
       "\n",
       "                                answer_dtDescription  \n",
       "0                                               none  \n",
       "1  Helped me to see the number of statements, inp...  \n",
       "2  Helped me to identify why it was a refused beq...  \n",
       "3              helped me to identify where to search  \n",
       "7                                                NaN  "
      ]
     },
     "execution_count": 462,
     "metadata": {},
     "output_type": "execute_result"
    }
   ],
   "source": [
    "# retira as atividades dummy\n",
    "answer_no_dummy = answer[~answer.id.isin(answer_dummy.id)]\n",
    "\n",
    "# retira o participante cujo questionnaire_id=25\n",
    "answer_no_dummy = answer_no_dummy[answer_no_dummy.questionnaire_id!=25]\n",
    "\n",
    "# 12 participantes x 8 atividades = 96 rows\n",
    "answer_no_dummy.head()"
   ]
  },
  {
   "cell_type": "markdown",
   "metadata": {},
   "source": [
    "# Experiment results"
   ]
  },
  {
   "cell_type": "code",
   "execution_count": 1,
   "metadata": {},
   "outputs": [
    {
     "ename": "NameError",
     "evalue": "name 'answer_no_dummy' is not defined",
     "output_type": "error",
     "traceback": [
      "\u001b[0;31m---------------------------------------------------------------------------\u001b[0m",
      "\u001b[0;31mNameError\u001b[0m                                 Traceback (most recent call last)",
      "\u001b[0;32m<ipython-input-1-205e4aa52d5f>\u001b[0m in \u001b[0;36m<module>\u001b[0;34m\u001b[0m\n\u001b[1;32m      1\u001b[0m \u001b[0;32mimport\u001b[0m  \u001b[0mstatsmodels\u001b[0m\u001b[0;34m.\u001b[0m\u001b[0mstats\u001b[0m\u001b[0;34m.\u001b[0m\u001b[0minter_rater\u001b[0m \u001b[0;32mas\u001b[0m \u001b[0mir\u001b[0m\u001b[0;34m\u001b[0m\u001b[0;34m\u001b[0m\u001b[0m\n\u001b[1;32m      2\u001b[0m \u001b[0;34m\u001b[0m\u001b[0m\n\u001b[0;32m----> 3\u001b[0;31m \u001b[0manswer_no_dummy_dt\u001b[0m \u001b[0;34m=\u001b[0m \u001b[0manswer_no_dummy\u001b[0m\u001b[0;34m[\u001b[0m\u001b[0manswer_no_dummy\u001b[0m\u001b[0;34m.\u001b[0m\u001b[0misDt\u001b[0m\u001b[0;34m==\u001b[0m\u001b[0;36m1\u001b[0m\u001b[0;34m]\u001b[0m\u001b[0;34m\u001b[0m\u001b[0;34m\u001b[0m\u001b[0m\n\u001b[0m\u001b[1;32m      4\u001b[0m \u001b[0manswer_no_dummy_noDt\u001b[0m \u001b[0;34m=\u001b[0m \u001b[0manswer_no_dummy\u001b[0m\u001b[0;34m[\u001b[0m\u001b[0manswer_no_dummy\u001b[0m\u001b[0;34m.\u001b[0m\u001b[0misDt\u001b[0m\u001b[0;34m==\u001b[0m\u001b[0;36m0\u001b[0m\u001b[0;34m]\u001b[0m\u001b[0;34m\u001b[0m\u001b[0;34m\u001b[0m\u001b[0m\n\u001b[1;32m      5\u001b[0m \u001b[0;34m\u001b[0m\u001b[0m\n",
      "\u001b[0;31mNameError\u001b[0m: name 'answer_no_dummy' is not defined"
     ]
    }
   ],
   "source": [
    "import  statsmodels.stats.inter_rater as ir\n",
    "\n",
    "answer_no_dummy_dt = answer_no_dummy[answer_no_dummy.isDt==1]\n",
    "answer_no_dummy_noDt = answer_no_dummy[answer_no_dummy.isDt==0]\n",
    "\n",
    "# calcula os agreements agrupando por atividade e agreement\n",
    "df_count_agreement = answer_no_dummy_dt[['task_id','answer_csagreement']].groupby(['task_id','answer_csagreement']).size().reset_index(name='size')\n",
    "\n",
    "list_count_agreement = list()\n",
    "tasks = answer_no_dummy.task_id.unique()\n",
    "for task in tasks:\n",
    "    df_tmp = df_count_agreement[df_count_agreement.task_id==task].iloc[:,1:3]\n",
    "    df_merged = pd.merge_ordered(df_tmp, df_agreement_framee, fill_method='ffill', right_by=\"answer_csagreement\", how=\"left\")        \n",
    "    list_count_agreement.append(df_merged['size'].tolist()) \n",
    "    \n",
    "df_kappaTable = pd.DataFrame(list_count_agreement)\n",
    "df_disagree = df_kappaTable[0]+df_kappaTable[1]\n",
    "df_agree = df_kappaTable[2]+df_kappaTable[3]\n",
    "\n",
    "df_kappaTable = pd.concat([df_disagree, df_agree], axis=1)\n",
    "\n",
    "ir.fleiss_kappa(df_kappaTable, method='fleiss')"
   ]
  },
  {
   "cell_type": "code",
   "execution_count": 464,
   "metadata": {},
   "outputs": [
    {
     "data": {
      "text/html": [
       "<div>\n",
       "<style scoped>\n",
       "    .dataframe tbody tr th:only-of-type {\n",
       "        vertical-align: middle;\n",
       "    }\n",
       "\n",
       "    .dataframe tbody tr th {\n",
       "        vertical-align: top;\n",
       "    }\n",
       "\n",
       "    .dataframe thead th {\n",
       "        text-align: right;\n",
       "    }\n",
       "</style>\n",
       "<table border=\"1\" class=\"dataframe\">\n",
       "  <thead>\n",
       "    <tr style=\"text-align: right;\">\n",
       "      <th></th>\n",
       "      <th>disagree</th>\n",
       "      <th>agree</th>\n",
       "    </tr>\n",
       "  </thead>\n",
       "  <tbody>\n",
       "    <tr>\n",
       "      <th>0</th>\n",
       "      <td>0</td>\n",
       "      <td>6</td>\n",
       "    </tr>\n",
       "    <tr>\n",
       "      <th>1</th>\n",
       "      <td>0</td>\n",
       "      <td>6</td>\n",
       "    </tr>\n",
       "    <tr>\n",
       "      <th>2</th>\n",
       "      <td>3</td>\n",
       "      <td>3</td>\n",
       "    </tr>\n",
       "    <tr>\n",
       "      <th>3</th>\n",
       "      <td>1</td>\n",
       "      <td>5</td>\n",
       "    </tr>\n",
       "    <tr>\n",
       "      <th>4</th>\n",
       "      <td>0</td>\n",
       "      <td>6</td>\n",
       "    </tr>\n",
       "    <tr>\n",
       "      <th>5</th>\n",
       "      <td>3</td>\n",
       "      <td>3</td>\n",
       "    </tr>\n",
       "    <tr>\n",
       "      <th>6</th>\n",
       "      <td>0</td>\n",
       "      <td>6</td>\n",
       "    </tr>\n",
       "    <tr>\n",
       "      <th>7</th>\n",
       "      <td>1</td>\n",
       "      <td>5</td>\n",
       "    </tr>\n",
       "  </tbody>\n",
       "</table>\n",
       "</div>"
      ],
      "text/plain": [
       "   disagree  agree\n",
       "0         0      6\n",
       "1         0      6\n",
       "2         3      3\n",
       "3         1      5\n",
       "4         0      6\n",
       "5         3      3\n",
       "6         0      6\n",
       "7         1      5"
      ]
     },
     "execution_count": 464,
     "metadata": {},
     "output_type": "execute_result"
    }
   ],
   "source": [
    "    df_kappaTable.columns = ['disagree','agree'] \n",
    "\n",
    "df_kappaTable\n"
   ]
  },
  {
   "cell_type": "markdown",
   "metadata": {},
   "source": [
    "## Evaluation effort"
   ]
  },
  {
   "cell_type": "code",
   "execution_count": 465,
   "metadata": {},
   "outputs": [
    {
     "data": {
      "text/plain": [
       "{'whiskers': [<matplotlib.lines.Line2D at 0x7f0cbb073780>,\n",
       "  <matplotlib.lines.Line2D at 0x7f0cbb073978>,\n",
       "  <matplotlib.lines.Line2D at 0x7f0cbbe8e898>,\n",
       "  <matplotlib.lines.Line2D at 0x7f0cbb172da0>],\n",
       " 'caps': [<matplotlib.lines.Line2D at 0x7f0cbb073f60>,\n",
       "  <matplotlib.lines.Line2D at 0x7f0cbb0593c8>,\n",
       "  <matplotlib.lines.Line2D at 0x7f0cbb06dbe0>,\n",
       "  <matplotlib.lines.Line2D at 0x7f0cbae2a908>],\n",
       " 'boxes': [<matplotlib.patches.PathPatch at 0x7f0cbb073358>,\n",
       "  <matplotlib.patches.PathPatch at 0x7f0cbbe8e710>],\n",
       " 'medians': [<matplotlib.lines.Line2D at 0x7f0cbae2c828>,\n",
       "  <matplotlib.lines.Line2D at 0x7f0cbbea55c0>],\n",
       " 'fliers': [<matplotlib.lines.Line2D at 0x7f0cbbe8ec18>,\n",
       "  <matplotlib.lines.Line2D at 0x7f0cbbea5ef0>],\n",
       " 'means': []}"
      ]
     },
     "execution_count": 465,
     "metadata": {},
     "output_type": "execute_result"
    },
    {
     "data": {
      "image/png": "[encoded data removed]",
      "text/plain": [
       "<Figure size 432x288 with 1 Axes>"
      ]
     },
     "metadata": {
      "needs_background": "light"
     },
     "output_type": "display_data"
    }
   ],
   "source": [
    "answer_no_dummy_dt                  \n",
    "    \n",
    "\n",
    "labels = ['DT', 'No DT']\n",
    "\n",
    "answerDtMinutes = answer_no_dummy_dt.secondsToAnswer\n",
    "answerNoDtMinutes = answer_no_dummy_noDt.secondsToAnswer\n",
    "\n",
    "all_data = [answerDtMinutes,answerNoDtMinutes]\n",
    "\n",
    "plt.boxplot(all_data,\n",
    "                         vert=True,  # vertical box alignment\n",
    "                         patch_artist=True,  # fill with color\n",
    "                         labels=labels)  # will be used to label x-ticks\n",
    "#plt.show()\n",
    "\n",
    "# df_table = pd.DataFrame([answerDtMinutes.tolist(),answerNoDtMinutes])\n",
    "# df_table.T\n",
    "\n",
    "\n",
    "\n",
    "\n",
    "\n"
   ]
  },
  {
   "cell_type": "code",
   "execution_count": 466,
   "metadata": {},
   "outputs": [
    {
     "data": {
      "image/png": "[encoded data removed]",
      "text/plain": [
       "<Figure size 648x288 with 2 Axes>"
      ]
     },
     "metadata": {
      "needs_background": "light"
     },
     "output_type": "display_data"
    }
   ],
   "source": [
    "import numpy as np\n",
    "\n",
    "# Random test data\n",
    "np.random.seed(19680801)\n",
    "all_data = [np.random.normal(0, std, size=100) for std in range(1, 4)]\n",
    "labels = ['x1', 'x2', 'x3']\n",
    "\n",
    "fig, axes = plt.subplots(nrows=1, ncols=2, figsize=(9, 4))\n",
    "\n",
    "# rectangular box plot\n",
    "bplot1 = axes[0].boxplot(all_data,\n",
    "                         vert=True,  # vertical box alignment\n",
    "                         patch_artist=True,  # fill with color\n",
    "                         labels=labels)  # will be used to label x-ticks\n",
    "axes[0].set_title('Rectangular box plot')\n",
    "\n",
    "# notch shape box plot\n",
    "bplot2 = axes[1].boxplot(all_data,\n",
    "                         notch=True,  # notch shape\n",
    "                         vert=True,  # vertical box alignment\n",
    "                         patch_artist=True,  # fill with color\n",
    "                         labels=labels)  # will be used to label x-ticks\n",
    "axes[1].set_title('Notched box plot')\n",
    "\n",
    "# fill with colors\n",
    "colors = ['pink', 'lightblue', 'lightgreen']\n",
    "for bplot in (bplot1, bplot2):\n",
    "    for patch, color in zip(bplot['boxes'], colors):\n",
    "        patch.set_facecolor(color)\n",
    "\n",
    "# adding horizontal grid lines\n",
    "for ax in axes:\n",
    "    ax.yaxis.grid(True)\n",
    "    ax.set_xlabel('Three separate samples')\n",
    "    ax.set_ylabel('Observed values')\n",
    "\n",
    "plt.show()"
   ]
  },
  {
   "cell_type": "code",
   "execution_count": 467,
   "metadata": {},
   "outputs": [],
   "source": [
    "header = [\"inviteId\",\"codeRevision\",\"codeSmellIdentification\",\"degree\",\"devExperience\",\"javaExperience\",\"objOrientedExperience\",\"origin\",\"yearsDevExperience\"]\n",
    "participants =  pd.read_csv('participant.csv', header=None)\n",
    "participants.columns=header\n",
    "\n",
    "\n",
    "#participants.to_csv('participant.csv', index=False)\n",
    "        \n",
    "#participants"
   ]
  }
 ],
 "metadata": {
  "kernelspec": {
   "display_name": "Python 3",
   "language": "python",
   "name": "python3"
  },
  "language_info": {
   "codemirror_mode": {
    "name": "ipython",
    "version": 3
   },
   "file_extension": ".py",
   "mimetype": "text/x-python",
   "name": "python",
   "nbconvert_exporter": "python",
   "pygments_lexer": "ipython3",
   "version": "3.6.9"
  }
 },
 "nbformat": 4,
 "nbformat_minor": 4
}
